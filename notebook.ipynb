{
 "cells": [
  {
   "cell_type": "code",
   "outputs": [],
   "source": [
    "import pandas as pd\n",
    "import neo4j as neo"
   ],
   "metadata": {
    "collapsed": false,
    "ExecuteTime": {
     "end_time": "2024-03-19T21:54:04.394001Z",
     "start_time": "2024-03-19T21:54:04.368732Z"
    }
   },
   "id": "b01ad9f47fceaacf",
   "execution_count": 31
  },
  {
   "cell_type": "code",
   "outputs": [],
   "source": [
    "spotify = pd.read_csv('spotify/spotify.csv')"
   ],
   "metadata": {
    "collapsed": false,
    "ExecuteTime": {
     "end_time": "2024-03-19T21:54:05.488077Z",
     "start_time": "2024-03-19T21:54:04.615980Z"
    }
   },
   "id": "4820aa8d6a7cbb34",
   "execution_count": 32
  },
  {
   "cell_type": "code",
   "outputs": [],
   "source": [
    "feats = ['popularity', 'duration_ms', 'explicit', 'danceability', 'energy', 'key', 'loudness', 'mode', 'speechiness','acousticness', 'instrumentalness', 'liveness', 'valence', 'tempo', 'time_signature']\n",
    "\n",
    "for feat in feats:\n",
    "    # Standardize the feature\n",
    "    spotify[feat] = (spotify[feat] - spotify[feat].mean())/spotify[feat].std() "
   ],
   "metadata": {
    "collapsed": false,
    "ExecuteTime": {
     "end_time": "2024-03-19T21:54:05.522795Z",
     "start_time": "2024-03-19T21:54:05.489108Z"
    }
   },
   "id": "ce23f301c26997a7",
   "execution_count": 33
  },
  {
   "cell_type": "code",
   "outputs": [],
   "source": [
    "strokes = spotify.loc[(spotify['artists'] == 'The Strokes') & (spotify['album_name'] == 'Is This It')]\n",
    "spotify = spotify.loc[spotify['artists'] != 'The Strokes']"
   ],
   "metadata": {
    "collapsed": false,
    "ExecuteTime": {
     "end_time": "2024-03-19T21:54:06.186182Z",
     "start_time": "2024-03-19T21:54:06.150550Z"
    }
   },
   "id": "c35168dcab86483a",
   "execution_count": 34
  },
  {
   "cell_type": "code",
   "outputs": [],
   "source": [
    "strokes = dict(strokes.T)"
   ],
   "metadata": {
    "collapsed": false,
    "ExecuteTime": {
     "end_time": "2024-03-19T21:54:07.204526Z",
     "start_time": "2024-03-19T21:54:07.182924Z"
    }
   },
   "id": "97bfb0b521db217b",
   "execution_count": 35
  },
  {
   "cell_type": "code",
   "outputs": [],
   "source": [
    "spotify = spotify.sample(1000)"
   ],
   "metadata": {
    "collapsed": false,
    "ExecuteTime": {
     "end_time": "2024-03-19T21:54:07.628785Z",
     "start_time": "2024-03-19T21:54:07.599993Z"
    }
   },
   "id": "803de261e0c9a9e8",
   "execution_count": 36
  },
  {
   "cell_type": "code",
   "outputs": [],
   "source": [
    "spotify = dict(spotify.T)"
   ],
   "metadata": {
    "collapsed": false,
    "ExecuteTime": {
     "end_time": "2024-03-19T21:54:08.306368Z",
     "start_time": "2024-03-19T21:54:08.230129Z"
    }
   },
   "id": "b7a68b7ff7cd36c9",
   "execution_count": 37
  },
  {
   "cell_type": "code",
   "outputs": [],
   "source": [
    "password = 'j4f^q3WrwZYw7u3gx&JsgknBnTkUJPX'\n",
    "\n",
    "# Connect to neo4j\n",
    "neo4j = neo.GraphDatabase.driver('neo4j://localhost:7687', auth=('neo4j', password))\n",
    "\n",
    "\n",
    "def cosine_similarity(v1, v2):\n",
    "    return sum([a*b for a,b in zip(v1, v2)]) / (sum([a**2 for a in v1])**0.5 * sum([b**2 for b in v2])**0.5)\n",
    "\n",
    "with neo4j.session() as session:\n",
    "    session.run('MATCH (n) DETACH DELETE n')\n",
    "    for i, track in spotify.items():\n",
    "        session.run('CREATE (t:Track {name: $name, artists: $artists, genre: $genre, popularity: $popularity, duration: $duration, explicit: $explicit, danceability: $danceability, energy: $energy, key: $key, loudness: $loudness, mode: $mode, speechiness: $speechiness, acousticness: $acousticness, instrumentalness: $instrumentalness, liveness: $liveness, valence: $valence, tempo: $tempo, time_signature: $time_signature})', name=track['track_name'], artists=track['artists'], genre=track['track_genre'], popularity=track['popularity'], duration=track['duration_ms'], explicit=track['explicit'], danceability=track['danceability'], energy=track['energy'], key=track['key'], loudness=track['loudness'], mode=track['mode'], speechiness=track['speechiness'], acousticness=track['acousticness'], instrumentalness=track['instrumentalness'], liveness=track['liveness'], valence=track['valence'], tempo=track['tempo'], time_signature=track['time_signature'])\n",
    "        for j, other_track in spotify.items():\n",
    "            if i != j:\n",
    "                similarity = cosine_similarity([track['danceability'], track['energy'], track['key'], track['loudness'], track['mode'], track['speechiness'], track['acousticness'], track['instrumentalness'], track['liveness'], track['valence'], track['tempo'], track['time_signature']], [other_track['danceability'], other_track['energy'], other_track['key'], other_track['loudness'], other_track['mode'], other_track['speechiness'], other_track['acousticness'], other_track['instrumentalness'], other_track['liveness'], other_track['valence'], other_track['tempo'], other_track['time_signature']])\n",
    "                if similarity > 0.85:\n",
    "                    session.run('MATCH (t1:Track {name: $name1}), (t2:Track {name: $name2}) CREATE (t1)-[:SIMILAR_TO {similarity: $similarity}]->(t2)', name1=track['track_name'], name2=other_track['track_name'], similarity=similarity)\n",
    "                    \n",
    "    for i, track in strokes.items():\n",
    "        session.run('CREATE (t:Strokes {name: $name, artists: $artists, genre: $genre, popularity: $popularity, duration: $duration, explicit: $explicit, danceability: $danceability, energy: $energy, key: $key, loudness: $loudness, mode: $mode, speechiness: $speechiness, acousticness: $acousticness, instrumentalness: $instrumentalness, liveness: $liveness, valence: $valence, tempo: $tempo, time_signature: $time_signature})', name=track['track_name'], artists=track['artists'], genre=track['track_genre'], popularity=track['popularity'], duration=track['duration_ms'], explicit=track['explicit'], danceability=track['danceability'], energy=track['energy'], key=track['key'], loudness=track['loudness'], mode=track['mode'], speechiness=track['speechiness'], acousticness=track['acousticness'],instrumentalness=track['instrumentalness'], liveness=track['liveness'], valence=track['valence'], tempo=track['tempo'], time_signature=track['time_signature'])\n",
    "        for j, other_track in spotify.items():\n",
    "            if i != j:\n",
    "                similarity = cosine_similarity([track['danceability'], track['energy'], track['key'], track['loudness'], track['mode'], track['speechiness'], track['acousticness'], track['instrumentalness'], track['liveness'], track['valence'], track['tempo'], track['time_signature']], [other_track['danceability'], other_track['energy'], other_track['key'], other_track['loudness'], other_track['mode'], other_track['speechiness'], other_track['acousticness'], other_track['instrumentalness'], other_track['liveness'], other_track['valence'], other_track['tempo'], other_track['time_signature']])\n",
    "                if similarity > 0.85:\n",
    "                    session.run('MATCH (t1:Strokes {name: $name1}), (t2:Track {name: $name2}) CREATE (t1)-[:SIMILAR_TO {similarity: $similarity}]->(t2)', name1=track['track_name'], name2=other_track['track_name'], similarity=similarity) "
   ],
   "metadata": {
    "collapsed": false,
    "ExecuteTime": {
     "end_time": "2024-03-19T22:14:48.750089Z",
     "start_time": "2024-03-19T22:13:44.151507Z"
    }
   },
   "id": "3061e5fb3509022",
   "execution_count": 40
  }
 ],
 "metadata": {
  "kernelspec": {
   "display_name": "Python 3",
   "language": "python",
   "name": "python3"
  },
  "language_info": {
   "codemirror_mode": {
    "name": "ipython",
    "version": 2
   },
   "file_extension": ".py",
   "mimetype": "text/x-python",
   "name": "python",
   "nbconvert_exporter": "python",
   "pygments_lexer": "ipython2",
   "version": "2.7.6"
  }
 },
 "nbformat": 4,
 "nbformat_minor": 5
}
