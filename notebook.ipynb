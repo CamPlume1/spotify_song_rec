{
 "cells": [
  {
   "cell_type": "code",
   "outputs": [],
   "source": [
    "import pandas as pd\n",
    "import neo4j as neo"
   ],
   "metadata": {
    "collapsed": false,
    "ExecuteTime": {
     "end_time": "2024-03-22T06:14:23.028301Z",
     "start_time": "2024-03-22T06:14:21.689846Z"
    }
   },
   "id": "b01ad9f47fceaacf",
   "execution_count": 1
  },
  {
   "cell_type": "code",
   "outputs": [],
   "source": [
    "spotify = pd.read_csv('spotify/spotify.csv')"
   ],
   "metadata": {
    "collapsed": false,
    "ExecuteTime": {
     "end_time": "2024-03-22T06:14:23.440642Z",
     "start_time": "2024-03-22T06:14:23.008996Z"
    }
   },
   "id": "4820aa8d6a7cbb34",
   "execution_count": 2
  },
  {
   "cell_type": "code",
   "outputs": [],
   "source": [
    "feats = ['popularity', 'duration_ms', 'explicit', 'danceability', 'energy', 'key', 'loudness', 'mode', 'speechiness','acousticness', 'instrumentalness', 'liveness', 'valence', 'tempo', 'time_signature']\n",
    "\n",
    "for feat in feats:\n",
    "    # Standardize the feature\n",
    "    spotify[feat] = (spotify[feat] - spotify[feat].mean())/spotify[feat].std() "
   ],
   "metadata": {
    "collapsed": false,
    "ExecuteTime": {
     "end_time": "2024-03-22T06:14:23.469610Z",
     "start_time": "2024-03-22T06:14:23.432846Z"
    }
   },
   "id": "ce23f301c26997a7",
   "execution_count": 3
  },
  {
   "cell_type": "code",
   "outputs": [],
   "source": [
    "strokes = spotify.loc[(spotify['artists'] == 'The Strokes') & (spotify['album_name'] == 'Is This It')]\n",
    "spotify = spotify.loc[(spotify['artists'] != 'The Strokes') & (spotify['track_genre'].isin(list(strokes['track_genre'].unique())))]"
   ],
   "metadata": {
    "collapsed": false,
    "ExecuteTime": {
     "end_time": "2024-03-22T06:14:26.957533Z",
     "start_time": "2024-03-22T06:14:26.946071Z"
    }
   },
   "id": "c35168dcab86483a",
   "execution_count": 4
  },
  {
   "cell_type": "code",
   "outputs": [],
   "source": [
    "strokes = dict(strokes.T)"
   ],
   "metadata": {
    "collapsed": false,
    "ExecuteTime": {
     "end_time": "2024-03-22T06:14:27.769216Z",
     "start_time": "2024-03-22T06:14:27.764101Z"
    }
   },
   "id": "97bfb0b521db217b",
   "execution_count": 5
  },
  {
   "cell_type": "code",
   "outputs": [],
   "source": [
    "spotify = spotify.sample(1000)"
   ],
   "metadata": {
    "collapsed": false,
    "ExecuteTime": {
     "end_time": "2024-03-22T06:14:28.641943Z",
     "start_time": "2024-03-22T06:14:28.630124Z"
    }
   },
   "id": "803de261e0c9a9e8",
   "execution_count": 6
  },
  {
   "cell_type": "code",
   "outputs": [],
   "source": [
    "spotify = dict(spotify.T)"
   ],
   "metadata": {
    "collapsed": false,
    "ExecuteTime": {
     "end_time": "2024-03-22T06:14:30.504603Z",
     "start_time": "2024-03-22T06:14:30.490977Z"
    }
   },
   "id": "b7a68b7ff7cd36c9",
   "execution_count": 7
  },
  {
   "cell_type": "code",
   "outputs": [],
   "source": [
    "password = 'j4f^q3WrwZYw7u3gx&JsgknBnTkUJPX'\n",
    "\n",
    "# Connect to neo4j\n",
    "neo4j = neo.GraphDatabase.driver('neo4j://localhost:7687', auth=('neo4j', password))\n",
    "\n",
    "\n",
    "def cosine_similarity(v1, v2):\n",
    "    return sum([a*b for a,b in zip(v1, v2)]) / (sum([a**2 for a in v1])**0.5 * sum([b**2 for b in v2])**0.5)\n",
    "\n",
    "with neo4j.session() as session:\n",
    "    session.run('MATCH (n) DETACH DELETE n')\n",
    "    for i, track in spotify.items():\n",
    "        session.run('CREATE (t:Track {name: $name, artists: $artists, genre: $genre, popularity: $popularity, duration: $duration, explicit: $explicit, danceability: $danceability, energy: $energy, key: $key, loudness: $loudness, mode: $mode, speechiness: $speechiness, acousticness: $acousticness, instrumentalness: $instrumentalness, liveness: $liveness, valence: $valence, tempo: $tempo, time_signature: $time_signature})', name=track['track_name'], artists=track['artists'], genre=track['track_genre'], popularity=track['popularity'], duration=track['duration_ms'], explicit=track['explicit'], danceability=track['danceability'], energy=track['energy'], key=track['key'], loudness=track['loudness'], mode=track['mode'], speechiness=track['speechiness'], acousticness=track['acousticness'], instrumentalness=track['instrumentalness'], liveness=track['liveness'], valence=track['valence'], tempo=track['tempo'], time_signature=track['time_signature'])\n",
    "        for j, other_track in spotify.items():\n",
    "            if i != j:\n",
    "                similarity = cosine_similarity([track['danceability'], track['energy'], track['key'], track['loudness'], track['mode'], track['speechiness'], track['acousticness'], track['instrumentalness'], track['liveness'], track['valence'], track['tempo'], track['time_signature']], [other_track['danceability'], other_track['energy'], other_track['key'], other_track['loudness'], other_track['mode'], other_track['speechiness'], other_track['acousticness'], other_track['instrumentalness'], other_track['liveness'], other_track['valence'], other_track['tempo'], other_track['time_signature']])\n",
    "                if (similarity > 0.9) and (track['track_genre'] == other_track['track_genre']):\n",
    "                    session.run('MATCH (t1:Track {name: $name1}), (t2:Track {name: $name2}) CREATE (t1)-[:SIMILAR_TO {similarity: $similarity}]->(t2)', name1=track['track_name'], name2=other_track['track_name'], similarity=similarity)\n",
    "                    \n",
    "    for i, track in strokes.items():\n",
    "        session.run('CREATE (t:Strokes {name: $name, artists: $artists, genre: $genre, popularity: $popularity, duration: $duration, explicit: $explicit, danceability: $danceability, energy: $energy, key: $key, loudness: $loudness, mode: $mode, speechiness: $speechiness, acousticness: $acousticness, instrumentalness: $instrumentalness, liveness: $liveness, valence: $valence, tempo: $tempo, time_signature: $time_signature})', name=track['track_name'], artists=track['artists'], genre=track['track_genre'], popularity=track['popularity'], duration=track['duration_ms'], explicit=track['explicit'], danceability=track['danceability'], energy=track['energy'], key=track['key'], loudness=track['loudness'], mode=track['mode'], speechiness=track['speechiness'], acousticness=track['acousticness'],instrumentalness=track['instrumentalness'], liveness=track['liveness'], valence=track['valence'], tempo=track['tempo'], time_signature=track['time_signature'])\n",
    "        for j, other_track in spotify.items():\n",
    "            if i != j:\n",
    "                similarity = cosine_similarity([track['danceability'], track['energy'], track['key'], track['loudness'], track['mode'], track['speechiness'], track['acousticness'], track['instrumentalness'], track['liveness'], track['valence'], track['tempo'], track['time_signature']], [other_track['danceability'], other_track['energy'], other_track['key'], other_track['loudness'], other_track['mode'], other_track['speechiness'], other_track['acousticness'], other_track['instrumentalness'], other_track['liveness'], other_track['valence'], other_track['tempo'], other_track['time_signature']])\n",
    "                if (similarity > 0.9) and (track['track_genre'] == other_track['track_genre']):\n",
    "                    session.run('MATCH (t1:Strokes {name: $name1}), (t2:Track {name: $name2}) CREATE (t1)-[:SIMILAR_TO {similarity: $similarity}]->(t2)', name1=track['track_name'], name2=other_track['track_name'], similarity=similarity) "
   ],
   "metadata": {
    "collapsed": false,
    "ExecuteTime": {
     "end_time": "2024-03-22T06:15:19.397416Z",
     "start_time": "2024-03-22T06:14:33.391481Z"
    }
   },
   "id": "3061e5fb3509022",
   "execution_count": 8
  },
  {
   "cell_type": "code",
   "outputs": [
    {
     "name": "stdout",
     "output_type": "stream",
     "text": [
      "<Record t.name='Figure It Out' t.artists='Royal Blood' t.genre='garage'>\n",
      "<Record t.name='Figure It Out' t.artists='Royal Blood' t.genre='alt-rock'>\n",
      "<Record t.name='Figure It Out' t.artists='Royal Blood' t.genre='alt-rock'>\n",
      "<Record t.name='Old Yellow Bricks' t.artists='Arctic Monkeys' t.genre='garage'>\n",
      "<Record t.name='Waiting My Whole Life' t.artists='The Grogans' t.genre='garage'>\n",
      "<Record t.name='Cut You Deep' t.artists='Dear Seattle' t.genre='garage'>\n",
      "<Record t.name='Mary, Don’t Go' t.artists='Shannon & The Clams' t.genre='garage'>\n",
      "<Record t.name='Tattooed Smiles' t.artists='Black Box Revelation' t.genre='garage'>\n",
      "<Record t.name='Figure It Out' t.artists='Royal Blood' t.genre='garage'>\n"
     ]
    }
   ],
   "source": [
    "# Find the most similar tracks to The Strokes\n",
    "with neo4j.session() as session:\n",
    "    result = session.run('MATCH (s:Strokes)-[:SIMILAR_TO]->(t:Track) RETURN t.name, t.artists, t.genre ORDER BY t.similarity  DESC LIMIT 9')\n",
    "    for record in result:\n",
    "        print(record)"
   ],
   "metadata": {
    "collapsed": false,
    "ExecuteTime": {
     "end_time": "2024-03-22T15:20:53.771705Z",
     "start_time": "2024-03-22T15:20:53.547695Z"
    }
   },
   "id": "c0e3954f87d70292",
   "execution_count": 19
  }
 ],
 "metadata": {
  "kernelspec": {
   "display_name": "Python 3",
   "language": "python",
   "name": "python3"
  },
  "language_info": {
   "codemirror_mode": {
    "name": "ipython",
    "version": 2
   },
   "file_extension": ".py",
   "mimetype": "text/x-python",
   "name": "python",
   "nbconvert_exporter": "python",
   "pygments_lexer": "ipython2",
   "version": "2.7.6"
  }
 },
 "nbformat": 4,
 "nbformat_minor": 5
}
