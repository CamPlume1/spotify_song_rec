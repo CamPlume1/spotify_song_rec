{
 "cells": [
  {
   "cell_type": "code",
   "outputs": [],
   "source": [
    "import pandas as pd\n",
    "import neo4j as neo"
   ],
   "metadata": {
    "collapsed": false,
    "ExecuteTime": {
     "end_time": "2024-03-19T14:37:10.048837Z",
     "start_time": "2024-03-19T14:37:08.925906Z"
    }
   },
   "id": "b01ad9f47fceaacf",
   "execution_count": 1
  },
  {
   "cell_type": "code",
   "outputs": [],
   "source": [
    "spotify = pd.read_csv('spotify/spotify.csv')"
   ],
   "metadata": {
    "collapsed": false,
    "ExecuteTime": {
     "end_time": "2024-03-19T21:09:33.160472Z",
     "start_time": "2024-03-19T21:09:30.542331Z"
    }
   },
   "id": "4820aa8d6a7cbb34",
   "execution_count": 40
  },
  {
   "cell_type": "code",
   "outputs": [],
   "source": [
    "spotify = spotify.sample(2000)"
   ],
   "metadata": {
    "collapsed": false,
    "ExecuteTime": {
     "end_time": "2024-03-19T21:09:33.285391Z",
     "start_time": "2024-03-19T21:09:33.127886Z"
    }
   },
   "id": "803de261e0c9a9e8",
   "execution_count": 41
  },
  {
   "cell_type": "code",
   "outputs": [],
   "source": [
    "feats = ['popularity', 'duration_ms', 'explicit', 'danceability', 'energy', 'key', 'loudness', 'mode', 'speechiness','acousticness', 'instrumentalness', 'liveness', 'valence', 'tempo', 'time_signature']\n",
    "\n",
    "for feat in feats:\n",
    "    # Standardize the feature\n",
    "    spotify[feat] = (spotify[feat] - spotify[feat].mean())/spotify[feat].std() "
   ],
   "metadata": {
    "collapsed": false,
    "ExecuteTime": {
     "end_time": "2024-03-19T21:09:33.361077Z",
     "start_time": "2024-03-19T21:09:33.233332Z"
    }
   },
   "id": "ce23f301c26997a7",
   "execution_count": 42
  },
  {
   "cell_type": "code",
   "outputs": [],
   "source": [
    "spotify = dict(spotify.T)"
   ],
   "metadata": {
    "collapsed": false,
    "ExecuteTime": {
     "end_time": "2024-03-19T21:09:34.491973Z",
     "start_time": "2024-03-19T21:09:34.352869Z"
    }
   },
   "id": "b7a68b7ff7cd36c9",
   "execution_count": 43
  },
  {
   "cell_type": "code",
   "outputs": [],
   "source": [
    "password = 'j4f^q3WrwZYw7u3gx&JsgknBnTkUJPX'\n",
    "\n",
    "# Connect to neo4j\n",
    "neo4j = neo.GraphDatabase.driver('neo4j://localhost:7687', auth=('neo4j', password))\n",
    "\n",
    "\n",
    "def cosine_similarity(v1, v2):\n",
    "    return sum([a*b for a,b in zip(v1, v2)]) / (sum([a**2 for a in v1])**0.5 * sum([b**2 for b in v2])**0.5)\n",
    "\n",
    "with neo4j.session() as session:\n",
    "    session.run('MATCH (n) DETACH DELETE n')\n",
    "    for i, track in spotify.items():\n",
    "        session.run('CREATE (t:Track {name: $name, artists: $artists, genre: $genre, popularity: $popularity, duration: $duration, explicit: $explicit, danceability: $danceability, energy: $energy, key: $key, loudness: $loudness, mode: $mode, speechiness: $speechiness, acousticness: $acousticness, instrumentalness: $instrumentalness, liveness: $liveness, valence: $valence, tempo: $tempo, time_signature: $time_signature})', name=track['track_name'], artists=track['artists'], genre=track['track_genre'], popularity=track['popularity'], duration=track['duration_ms'], explicit=track['explicit'], danceability=track['danceability'], energy=track['energy'], key=track['key'], loudness=track['loudness'], mode=track['mode'], speechiness=track['speechiness'], acousticness=track['acousticness'], instrumentalness=track['instrumentalness'], liveness=track['liveness'], valence=track['valence'], tempo=track['tempo'], time_signature=track['time_signature'])\n",
    "        for j, other_track in spotify.items():\n",
    "            if i != j:\n",
    "                similarity = cosine_similarity([track['danceability'], track['energy'], track['key'], track['loudness'], track['mode'], track['speechiness'], track['acousticness'], track['instrumentalness'], track['liveness'], track['valence'], track['tempo'], track['time_signature']], [other_track['danceability'], other_track['energy'], other_track['key'], other_track['loudness'], other_track['mode'], other_track['speechiness'], other_track['acousticness'], other_track['instrumentalness'], other_track['liveness'], other_track['valence'], other_track['tempo'], other_track['time_signature']])\n",
    "                if similarity > 0.4:\n",
    "                    session.run('MATCH (t1:Track {name: $name1}), (t2:Track {name: $name2}) CREATE (t1)-[:SIMILAR_TO {similarity: $similarity}]->(t2)', name1=track['track_name'], name2=other_track['track_name'], similarity=similarity)"
   ],
   "metadata": {
    "collapsed": false,
    "is_executing": true,
    "ExecuteTime": {
     "start_time": "2024-03-19T21:09:35.100567Z"
    }
   },
   "id": "3061e5fb3509022",
   "execution_count": null
  }
 ],
 "metadata": {
  "kernelspec": {
   "display_name": "Python 3",
   "language": "python",
   "name": "python3"
  },
  "language_info": {
   "codemirror_mode": {
    "name": "ipython",
    "version": 2
   },
   "file_extension": ".py",
   "mimetype": "text/x-python",
   "name": "python",
   "nbconvert_exporter": "python",
   "pygments_lexer": "ipython2",
   "version": "2.7.6"
  }
 },
 "nbformat": 4,
 "nbformat_minor": 5
}
